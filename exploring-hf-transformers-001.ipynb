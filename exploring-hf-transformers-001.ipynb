{
 "cells": [
  {
   "cell_type": "code",
   "execution_count": 1,
   "id": "d3fdf2f7-3781-439c-80f0-66945530dfa2",
   "metadata": {},
   "outputs": [],
   "source": [
    "import torch\n",
    "from transformers import pipeline\n",
    "import gc"
   ]
  },
  {
   "cell_type": "code",
   "execution_count": 2,
   "id": "df06a500-6fea-4d46-90e0-efb2cf3b0e1f",
   "metadata": {},
   "outputs": [],
   "source": [
    "device = torch.device(\"cuda\" if torch.cuda.is_available() else \"cpu\")"
   ]
  },
  {
   "cell_type": "code",
   "execution_count": 3,
   "id": "a8f07576-8eb5-41d0-9423-3c819de1e7f4",
   "metadata": {},
   "outputs": [],
   "source": [
    "# dir(device)\n",
    "# on my device (16Gb shared GPU memory) cuda runs out of memory when loading mistral"
   ]
  },
  {
   "cell_type": "code",
   "execution_count": 4,
   "id": "bb744ba3-d097-4dd2-9233-693665d6d177",
   "metadata": {},
   "outputs": [
    {
     "data": {
      "text/plain": [
       "0"
      ]
     },
     "execution_count": 4,
     "metadata": {},
     "output_type": "execute_result"
    }
   ],
   "source": [
    "gc.collect()"
   ]
  },
  {
   "cell_type": "code",
   "execution_count": 5,
   "id": "08e3f024-97e6-4e5d-be1c-74e02ea8b459",
   "metadata": {},
   "outputs": [],
   "source": [
    "torch.cuda.empty_cache()"
   ]
  },
  {
   "cell_type": "code",
   "execution_count": 6,
   "id": "e684b4b1-1e1f-413a-880e-eaa1ea9c954b",
   "metadata": {},
   "outputs": [
    {
     "name": "stderr",
     "output_type": "stream",
     "text": [
      "No model was supplied, defaulted to facebook/bart-large-mnli and revision c626438 (https://huggingface.co/facebook/bart-large-mnli).\n",
      "Using a pipeline without specifying a model name and revision in production is not recommended.\n"
     ]
    }
   ],
   "source": [
    "zero_shot_text_classifier_default = pipeline(\"zero-shot-classification\",\n",
    "                                             framework='pt')"
   ]
  },
  {
   "cell_type": "code",
   "execution_count": 7,
   "id": "331cf842-e7ad-4c44-82dc-6d723da95c5c",
   "metadata": {},
   "outputs": [
    {
     "data": {
      "application/vnd.jupyter.widget-view+json": {
       "model_id": "78db4f1797db49e8ba6577ee2742bb49",
       "version_major": 2,
       "version_minor": 0
      },
      "text/plain": [
       "Loading checkpoint shards:   0%|          | 0/3 [00:00<?, ?it/s]"
      ]
     },
     "metadata": {},
     "output_type": "display_data"
    },
    {
     "name": "stderr",
     "output_type": "stream",
     "text": [
      "Some weights of MistralForSequenceClassification were not initialized from the model checkpoint at mistralai/Mistral-7B-Instruct-v0.2 and are newly initialized: ['score.weight']\n",
      "You should probably TRAIN this model on a down-stream task to be able to use it for predictions and inference.\n",
      "Failed to determine 'entailment' label id from the label2id mapping in the model config. Setting to -1. Define a descriptive label2id mapping in the model config to ensure correct outputs.\n"
     ]
    }
   ],
   "source": [
    "# careful! \"mistralai/Mistral-7B-Instruct-v0.2\" is 15-ish GB!\n",
    "zero_shot_text_classifier_mistral = pipeline(\"zero-shot-classification\", \n",
    "                                             framework='pt',\n",
    "                                             model=\"mistralai/Mistral-7B-Instruct-v0.2\")"
   ]
  },
  {
   "cell_type": "code",
   "execution_count": 8,
   "id": "fa0e3654-6b2f-4bd3-b8c4-b9f72950a70f",
   "metadata": {},
   "outputs": [],
   "source": [
    "# classify text with the default model...\n",
    "res1_default = zero_shot_text_classifier_default(\"This movie was excellent but not something I would recommend for kids\", \\\n",
    "                          candidate_labels = ['cinema', 'adult', 'children', '5 star', '1 star'])\n",
    "\n",
    "res2_default = zero_shot_text_classifier_default(\"Whoa! they are going to let kids watch this?\", \n",
    "                 candidate_labels = ['cinema', 'adult', 'children', '5 star', '1 star'])\n",
    "\n",
    "res3_default = zero_shot_text_classifier_default(\"Insane movie! I wish I was a teenager back again!\", \n",
    "                 candidate_labels = ['cinema', 'adult', 'children', '5 star', '1 star'])\n",
    "\n",
    "res4_default = zero_shot_text_classifier_default(\"This is what I really call drama!\", \n",
    "                 candidate_labels = ['cinema', 'adult', 'children', '5 star', '1 star'])\n",
    "\n",
    "res5_default = zero_shot_text_classifier_default(\"I wish they didn't make such movies ever again...\", \n",
    "                 candidate_labels = ['cinema', 'adult', 'children', '5 star', '1 star'])"
   ]
  },
  {
   "cell_type": "code",
   "execution_count": 9,
   "id": "88fcef3a-f7a5-41d8-82f3-e02e1b9bf91a",
   "metadata": {},
   "outputs": [
    {
     "name": "stderr",
     "output_type": "stream",
     "text": [
      "Tokenizer was not supporting padding necessary for zero-shot, attempting to use  `pad_token=eos_token`\n",
      "Asking to truncate to max_length but no maximum length is provided and the model has no predefined maximum length. Default to no truncation.\n"
     ]
    }
   ],
   "source": [
    "# same with mistral\n",
    "\n",
    "res1_mistral = zero_shot_text_classifier_mistral(\"This movie was excellent but not  something I would recommend for kids\", \\\n",
    "                          candidate_labels = ['cinema', 'adult', 'children', '5 star', '1 star'])\n",
    "\n",
    "res2_mistral = zero_shot_text_classifier_mistral(\"Whoa! they are going to let kids watch this?\", \n",
    "                 candidate_labels = ['cinema', 'adult', 'children', '5 star', '1 star'])\n",
    "\n",
    "res3_mistral = zero_shot_text_classifier_mistral(\"Insane movie! I wish I was a teenager back again!\", \n",
    "                 candidate_labels = ['cinema', 'adult', 'children', '5 star', '1 star'])\n",
    "\n",
    "res4_mistral = zero_shot_text_classifier_mistral(\"This is what I really call drama!\", \n",
    "                 candidate_labels = ['cinema', 'adult', 'children', '5 star', '1 star'])\n",
    "\n",
    "res5_mistral = zero_shot_text_classifier_mistral(\"I wish they didn't make such movies ever again...\", \n",
    "                 candidate_labels = ['cinema', 'adult', 'children', '5 star', '1 star'])"
   ]
  },
  {
   "cell_type": "code",
   "execution_count": 10,
   "id": "0ac7bdb1-847a-41d4-86c4-9063c541943d",
   "metadata": {},
   "outputs": [
    {
     "data": {
      "text/plain": [
       "{'sequence': 'This movie was excellent but not something I would recommend for kids',\n",
       " 'labels': ['adult', 'cinema', 'children', '5 star', '1 star'],\n",
       " 'scores': [0.41432031989097595,\n",
       "  0.3483423888683319,\n",
       "  0.20275770127773285,\n",
       "  0.024567725136876106,\n",
       "  0.010011861100792885]}"
      ]
     },
     "execution_count": 10,
     "metadata": {},
     "output_type": "execute_result"
    }
   ],
   "source": [
    "res1_default"
   ]
  },
  {
   "cell_type": "code",
   "execution_count": 11,
   "id": "02e78647-ee92-4b87-8ea0-8cbf1a701f64",
   "metadata": {},
   "outputs": [
    {
     "data": {
      "text/plain": [
       "{'sequence': 'This movie was excellent but not  something I would recommend for kids',\n",
       " 'labels': ['cinema', 'children', '5 star', 'adult', '1 star'],\n",
       " 'scores': [0.9049181938171387,\n",
       "  0.090812548995018,\n",
       "  0.003504544962197542,\n",
       "  0.0007313970709219575,\n",
       "  3.333197673782706e-05]}"
      ]
     },
     "execution_count": 11,
     "metadata": {},
     "output_type": "execute_result"
    }
   ],
   "source": [
    "res1_mistral"
   ]
  },
  {
   "cell_type": "code",
   "execution_count": 12,
   "id": "e72319f0-c8e1-4341-ae50-f81ff052da39",
   "metadata": {},
   "outputs": [
    {
     "data": {
      "text/plain": [
       "{'sequence': 'Whoa! they are going to let kids watch this?',\n",
       " 'labels': ['children', 'adult', '1 star', 'cinema', '5 star'],\n",
       " 'scores': [0.9699141383171082,\n",
       "  0.011517437174916267,\n",
       "  0.010446187108755112,\n",
       "  0.006472286302596331,\n",
       "  0.0016499459743499756]}"
      ]
     },
     "execution_count": 12,
     "metadata": {},
     "output_type": "execute_result"
    }
   ],
   "source": [
    "res2_default"
   ]
  },
  {
   "cell_type": "code",
   "execution_count": 13,
   "id": "af2d825c-85d8-4c60-9d5d-8a188bbe0a74",
   "metadata": {},
   "outputs": [
    {
     "data": {
      "text/plain": [
       "{'sequence': 'Whoa! they are going to let kids watch this?',\n",
       " 'labels': ['children', 'cinema', '5 star', 'adult', '1 star'],\n",
       " 'scores': [0.954490065574646,\n",
       "  0.04052206873893738,\n",
       "  0.0049641807563602924,\n",
       "  2.2404046831070445e-05,\n",
       "  1.2437744771887083e-06]}"
      ]
     },
     "execution_count": 13,
     "metadata": {},
     "output_type": "execute_result"
    }
   ],
   "source": [
    "res2_mistral"
   ]
  },
  {
   "cell_type": "code",
   "execution_count": 14,
   "id": "797614eb-8ae3-46cc-b11f-ab301dac6618",
   "metadata": {},
   "outputs": [
    {
     "data": {
      "text/plain": [
       "{'sequence': 'Insane movie! I wish I was a teenager back again!',\n",
       " 'labels': ['cinema', '5 star', 'adult', 'children', '1 star'],\n",
       " 'scores': [0.7839779853820801,\n",
       "  0.08257089555263519,\n",
       "  0.07429753243923187,\n",
       "  0.03275119140744209,\n",
       "  0.026402359828352928]}"
      ]
     },
     "execution_count": 14,
     "metadata": {},
     "output_type": "execute_result"
    }
   ],
   "source": [
    "res3_default"
   ]
  },
  {
   "cell_type": "code",
   "execution_count": 15,
   "id": "1cb5f72c-f3e1-47da-9b6c-287c10432670",
   "metadata": {},
   "outputs": [
    {
     "data": {
      "text/plain": [
       "{'sequence': 'Insane movie! I wish I was a teenager back again!',\n",
       " 'labels': ['children', 'cinema', '1 star', 'adult', '5 star'],\n",
       " 'scores': [0.9401394128799438,\n",
       "  0.05528382584452629,\n",
       "  0.0019853815902024508,\n",
       "  0.0013875254662707448,\n",
       "  0.0012038190616294742]}"
      ]
     },
     "execution_count": 15,
     "metadata": {},
     "output_type": "execute_result"
    }
   ],
   "source": [
    "res3_mistral"
   ]
  },
  {
   "cell_type": "code",
   "execution_count": 16,
   "id": "13cbbdd6-7183-4ef6-bb3f-296e177b9751",
   "metadata": {},
   "outputs": [
    {
     "data": {
      "text/plain": [
       "{'sequence': 'This is what I really call drama!',\n",
       " 'labels': ['adult', 'cinema', '1 star', '5 star', 'children'],\n",
       " 'scores': [0.2974866032600403,\n",
       "  0.2321234494447708,\n",
       "  0.23076821863651276,\n",
       "  0.12381717562675476,\n",
       "  0.11580459028482437]}"
      ]
     },
     "execution_count": 16,
     "metadata": {},
     "output_type": "execute_result"
    }
   ],
   "source": [
    "res4_default"
   ]
  },
  {
   "cell_type": "code",
   "execution_count": 17,
   "id": "0f5532c9-9566-4e6d-9493-90471bc4d2e3",
   "metadata": {},
   "outputs": [
    {
     "data": {
      "text/plain": [
       "{'sequence': 'This is what I really call drama!',\n",
       " 'labels': ['children', 'adult', 'cinema', '5 star', '1 star'],\n",
       " 'scores': [0.9857844710350037,\n",
       "  0.008881828747689724,\n",
       "  0.005238767713308334,\n",
       "  8.802595402812585e-05,\n",
       "  6.869961453048745e-06]}"
      ]
     },
     "execution_count": 17,
     "metadata": {},
     "output_type": "execute_result"
    }
   ],
   "source": [
    "res4_mistral"
   ]
  },
  {
   "cell_type": "code",
   "execution_count": 18,
   "id": "072a093b-15cf-41dc-b331-130ad0b1603c",
   "metadata": {},
   "outputs": [
    {
     "data": {
      "text/plain": [
       "{'sequence': \"I wish they didn't make such movies ever again...\",\n",
       " 'labels': ['cinema', '1 star', 'adult', 'children', '5 star'],\n",
       " 'scores': [0.893247127532959,\n",
       "  0.052976980805397034,\n",
       "  0.04157780855894089,\n",
       "  0.009353112429380417,\n",
       "  0.0028449574019759893]}"
      ]
     },
     "execution_count": 18,
     "metadata": {},
     "output_type": "execute_result"
    }
   ],
   "source": [
    "res5_default"
   ]
  },
  {
   "cell_type": "code",
   "execution_count": 19,
   "id": "e65fcd99-a96f-4189-88cf-3134f05e6615",
   "metadata": {},
   "outputs": [
    {
     "data": {
      "text/plain": [
       "{'sequence': \"I wish they didn't make such movies ever again...\",\n",
       " 'labels': ['cinema', 'children', 'adult', '5 star', '1 star'],\n",
       " 'scores': [0.7038954496383667,\n",
       "  0.2927546799182892,\n",
       "  0.002611554926261306,\n",
       "  0.0007316485862247646,\n",
       "  6.70150302539696e-06]}"
      ]
     },
     "execution_count": 19,
     "metadata": {},
     "output_type": "execute_result"
    }
   ],
   "source": [
    "res5_mistral"
   ]
  },
  {
   "cell_type": "code",
   "execution_count": 20,
   "id": "bab7ca27-6045-4419-87e7-3b5d2108e3b8",
   "metadata": {},
   "outputs": [],
   "source": [
    "from transformers import AutoTokenizer, AutoModelForSequenceClassification"
   ]
  },
  {
   "cell_type": "code",
   "execution_count": 21,
   "id": "961829bb-7162-4545-8252-7918b0348e14",
   "metadata": {},
   "outputs": [
    {
     "name": "stderr",
     "output_type": "stream",
     "text": [
      "No model was supplied, defaulted to distilbert/distilbert-base-uncased-finetuned-sst-2-english and revision af0f99b (https://huggingface.co/distilbert/distilbert-base-uncased-finetuned-sst-2-english).\n",
      "Using a pipeline without specifying a model name and revision in production is not recommended.\n"
     ]
    }
   ],
   "source": [
    "text_classifier_default = pipeline(\"sentiment-analysis\",\n",
    "                                  framework='pt')"
   ]
  },
  {
   "cell_type": "code",
   "execution_count": 22,
   "id": "c0c5d3b3-6fa6-4a0b-b682-bb94919dc5ca",
   "metadata": {},
   "outputs": [
    {
     "data": {
      "application/vnd.jupyter.widget-view+json": {
       "model_id": "beacee62f72a4a78b9b9c3ca77f2d668",
       "version_major": 2,
       "version_minor": 0
      },
      "text/plain": [
       "Loading checkpoint shards:   0%|          | 0/3 [00:00<?, ?it/s]"
      ]
     },
     "metadata": {},
     "output_type": "display_data"
    },
    {
     "name": "stderr",
     "output_type": "stream",
     "text": [
      "Some weights of MistralForSequenceClassification were not initialized from the model checkpoint at mistralai/Mistral-7B-Instruct-v0.2 and are newly initialized: ['score.weight']\n",
      "You should probably TRAIN this model on a down-stream task to be able to use it for predictions and inference.\n"
     ]
    }
   ],
   "source": [
    "text_classifier_mistral = pipeline(\"sentiment-analysis\",\n",
    "                                   framework='pt',\n",
    "                                   model=\"mistralai/Mistral-7B-Instruct-v0.2\")"
   ]
  },
  {
   "cell_type": "code",
   "execution_count": 23,
   "id": "3ab44517-f98f-4ccc-aea1-4bdf893808ed",
   "metadata": {},
   "outputs": [],
   "source": [
    "# default seems to have picked up the right model\n",
    "# the sentiment-analysis pipeline chose\n",
    "# distilbert/distilbert-base-uncased-finetuned-sst-2-english\n",
    "# compare it to the default selected earlier \n",
    "# facebook/bart-large-mnli\n",
    "# for zero-shot-classification"
   ]
  },
  {
   "cell_type": "code",
   "execution_count": 24,
   "id": "c9f90505-f451-43fc-ad79-e008fa989c22",
   "metadata": {},
   "outputs": [
    {
     "name": "stdout",
     "output_type": "stream",
     "text": [
      "Default:  [{'label': 'POSITIVE', 'score': 0.9967063069343567}]\n",
      "Default:  [{'label': 'POSITIVE', 'score': 0.9981545805931091}]\n",
      "Default:  [{'label': 'NEGATIVE', 'score': 0.9976953864097595}]\n",
      "Default:  [{'label': 'POSITIVE', 'score': 0.9986501336097717}]\n",
      "Default:  [{'label': 'POSITIVE', 'score': 0.9498778581619263}]\n",
      "Default:  [{'label': 'NEGATIVE', 'score': 0.7154520153999329}]\n",
      "Default:  [{'label': 'POSITIVE', 'score': 0.70316481590271}]\n",
      "Default:  [{'label': 'NEGATIVE', 'score': 0.806521475315094}]\n"
     ]
    }
   ],
   "source": [
    "# see how sentiment analysis develops as we add words to our input prompt\n",
    "print(\"Default: \", text_classifier_default(\"London\"))\n",
    "print(\"Default: \", text_classifier_default(\"London Broadway\"))\n",
    "print(\"Default: \", text_classifier_default(\"London Broadway Sewage\"))\n",
    "print(\"Default: \", text_classifier_default(\"London Broadway Sewage Happy\"))\n",
    "print(\"Default: \", text_classifier_default(\"London Broadway Sewage Happy Saga\"))\n",
    "print(\"Default: \", text_classifier_default(\"London Broadway Sewage Happy Saga War\"))\n",
    "print(\"Default: \", text_classifier_default(\"London Broadway Sewage Happy Saga War Ecstasy\"))\n",
    "print(\"Default: \", text_classifier_default(\"London Broadway Sewage Happy Saga War Ecstasy Cocoa\"))"
   ]
  },
  {
   "cell_type": "code",
   "execution_count": 25,
   "id": "2a2b7dd4-a3bd-4805-852d-4211d45b5950",
   "metadata": {},
   "outputs": [
    {
     "name": "stdout",
     "output_type": "stream",
     "text": [
      "Mistral:  [{'label': 'LABEL_0', 'score': 0.9998973608016968}]\n",
      "Mistral:  [{'label': 'LABEL_1', 'score': 0.959801971912384}]\n",
      "Mistral:  [{'label': 'LABEL_1', 'score': 0.9123251438140869}]\n",
      "Mistral:  [{'label': 'LABEL_0', 'score': 0.9987932443618774}]\n",
      "Mistral:  [{'label': 'LABEL_1', 'score': 0.7357641458511353}]\n",
      "Mistral:  [{'label': 'LABEL_0', 'score': 0.9999880790710449}]\n",
      "Mistral:  [{'label': 'LABEL_1', 'score': 0.8246798515319824}]\n",
      "Mistral:  [{'label': 'LABEL_1', 'score': 0.9965721368789673}]\n"
     ]
    }
   ],
   "source": [
    "# careful, the mistral ones will take significantly longer\n",
    "# compare the same stuff for mistral\n",
    "print(\"Mistral: \", text_classifier_mistral(\"London\"))\n",
    "print(\"Mistral: \", text_classifier_mistral(\"London Broadway\"))\n",
    "print(\"Mistral: \", text_classifier_mistral(\"London Broadway Sewage\"))\n",
    "print(\"Mistral: \", text_classifier_mistral(\"London Broadway Sewage Happy\"))\n",
    "print(\"Mistral: \", text_classifier_mistral(\"London Broadway Sewage Happy Saga\"))\n",
    "print(\"Mistral: \", text_classifier_mistral(\"London Broadway Sewage Happy Saga War\"))\n",
    "print(\"Mistral: \", text_classifier_mistral(\"London Broadway Sewage Happy Saga War Ecstasy\"))\n",
    "print(\"Mistral: \", text_classifier_mistral(\"London Broadway Sewage Happy Saga War Ecstasy Cocoa\"))"
   ]
  },
  {
   "cell_type": "code",
   "execution_count": 26,
   "id": "18da7d0c-1928-4dd2-9997-fa28c2aa0158",
   "metadata": {},
   "outputs": [],
   "source": [
    "# looking at above, LABEL_0 seems negative and\n",
    "# LABEL_1 seems positive, in which case there is some clash with the default model..."
   ]
  },
  {
   "cell_type": "code",
   "execution_count": 27,
   "id": "76e305e4-ca1f-4a77-8d5c-74c493d7a421",
   "metadata": {},
   "outputs": [
    {
     "name": "stderr",
     "output_type": "stream",
     "text": [
      "Some weights of the model checkpoint at cardiffnlp/twitter-roberta-base-sentiment-latest were not used when initializing RobertaForSequenceClassification: ['roberta.pooler.dense.bias', 'roberta.pooler.dense.weight']\n",
      "- This IS expected if you are initializing RobertaForSequenceClassification from the checkpoint of a model trained on another task or with another architecture (e.g. initializing a BertForSequenceClassification model from a BertForPreTraining model).\n",
      "- This IS NOT expected if you are initializing RobertaForSequenceClassification from the checkpoint of a model that you expect to be exactly identical (initializing a BertForSequenceClassification model from a BertForSequenceClassification model).\n"
     ]
    }
   ],
   "source": [
    "# let's try some that are specifically trained for sentiment analysis or text classification\n",
    "model_roberta_sentiment = \"cardiffnlp/twitter-roberta-base-sentiment-latest\"\n",
    "text_classifier_roberta = pipeline(\"sentiment-analysis\",\n",
    "                                   framework='pt',\n",
    "                                   model=model_roberta_sentiment)"
   ]
  },
  {
   "cell_type": "code",
   "execution_count": 28,
   "id": "124eba43-6fe1-4dca-902c-2a91a1d87066",
   "metadata": {},
   "outputs": [
    {
     "name": "stdout",
     "output_type": "stream",
     "text": [
      "roberta:  [{'label': 'neutral', 'score': 0.7266884446144104}]\n",
      "roberta:  [{'label': 'neutral', 'score': 0.7035521268844604}]\n",
      "roberta:  [{'label': 'negative', 'score': 0.5377582311630249}]\n",
      "roberta:  [{'label': 'positive', 'score': 0.5833760499954224}]\n",
      "roberta:  [{'label': 'neutral', 'score': 0.5187426805496216}]\n",
      "roberta:  [{'label': 'neutral', 'score': 0.5524039268493652}]\n",
      "roberta:  [{'label': 'positive', 'score': 0.6171847581863403}]\n",
      "roberta:  [{'label': 'neutral', 'score': 0.5758312940597534}]\n"
     ]
    }
   ],
   "source": [
    "# \n",
    "# see how sentiment analysis develops as we add words to our input prompt\n",
    "print(\"roberta: \", text_classifier_roberta(\"London\"))\n",
    "print(\"roberta: \", text_classifier_roberta(\"London Broadway\"))\n",
    "print(\"roberta: \", text_classifier_roberta(\"London Broadway Sewage\"))\n",
    "print(\"roberta: \", text_classifier_roberta(\"London Broadway Sewage Happy\"))\n",
    "print(\"roberta: \", text_classifier_roberta(\"London Broadway Sewage Happy Saga\"))\n",
    "print(\"roberta: \", text_classifier_roberta(\"London Broadway Sewage Happy Saga War\"))\n",
    "print(\"roberta: \", text_classifier_roberta(\"London Broadway Sewage Happy Saga War Ecstasy\"))\n",
    "print(\"roberta: \", text_classifier_roberta(\"London Broadway Sewage Happy Saga War Ecstasy Cocoa\"))"
   ]
  },
  {
   "cell_type": "code",
   "execution_count": 29,
   "id": "12249a58-c46a-46f9-b03f-fc05d96a916a",
   "metadata": {},
   "outputs": [],
   "source": [
    "# let's try some that are specifically trained for sentiment analysis or text classification\n",
    "model_distilbert_sentiment = \"distilbert-base-uncased-finetuned-sst-2-english\"\n",
    "text_classifier_distilbert = pipeline(\"sentiment-analysis\",\n",
    "                                   framework='pt',\n",
    "                                   model=model_distilbert_sentiment)"
   ]
  },
  {
   "cell_type": "code",
   "execution_count": 30,
   "id": "6dd32786-f7c2-4d32-beec-fd097c35dd58",
   "metadata": {},
   "outputs": [
    {
     "name": "stdout",
     "output_type": "stream",
     "text": [
      "distilbert:  [{'label': 'POSITIVE', 'score': 0.9967063069343567}]\n",
      "distilbert:  [{'label': 'POSITIVE', 'score': 0.9981545805931091}]\n",
      "distilbert:  [{'label': 'NEGATIVE', 'score': 0.9976953864097595}]\n",
      "distilbert:  [{'label': 'POSITIVE', 'score': 0.9986501336097717}]\n",
      "distilbert:  [{'label': 'POSITIVE', 'score': 0.9498778581619263}]\n",
      "distilbert:  [{'label': 'NEGATIVE', 'score': 0.7154520153999329}]\n",
      "distilbert:  [{'label': 'POSITIVE', 'score': 0.70316481590271}]\n",
      "distilbert:  [{'label': 'NEGATIVE', 'score': 0.806521475315094}]\n"
     ]
    }
   ],
   "source": [
    "# \n",
    "# see how sentiment analysis develops as we add words to our input prompt\n",
    "print(\"distilbert: \", text_classifier_distilbert(\"London\"))\n",
    "print(\"distilbert: \", text_classifier_distilbert(\"London Broadway\"))\n",
    "print(\"distilbert: \", text_classifier_distilbert(\"London Broadway Sewage\"))\n",
    "print(\"distilbert: \", text_classifier_distilbert(\"London Broadway Sewage Happy\"))\n",
    "print(\"distilbert: \", text_classifier_distilbert(\"London Broadway Sewage Happy Saga\"))\n",
    "print(\"distilbert: \", text_classifier_distilbert(\"London Broadway Sewage Happy Saga War\"))\n",
    "print(\"distilbert: \", text_classifier_distilbert(\"London Broadway Sewage Happy Saga War Ecstasy\"))\n",
    "print(\"distilbert: \", text_classifier_distilbert(\"London Broadway Sewage Happy Saga War Ecstasy Cocoa\"))"
   ]
  },
  {
   "cell_type": "code",
   "execution_count": null,
   "id": "438a4f35-ec87-49eb-a048-5cac76ffdb8f",
   "metadata": {},
   "outputs": [],
   "source": []
  },
  {
   "cell_type": "code",
   "execution_count": null,
   "id": "ff2cfd86-fef2-4451-8c82-ebf9e72abc79",
   "metadata": {},
   "outputs": [],
   "source": []
  },
  {
   "cell_type": "code",
   "execution_count": null,
   "id": "e83cef48-8ded-42df-993a-68b53785a7b2",
   "metadata": {},
   "outputs": [],
   "source": []
  },
  {
   "cell_type": "code",
   "execution_count": null,
   "id": "32db2305-448b-4c34-a70b-7995214f0263",
   "metadata": {},
   "outputs": [],
   "source": []
  },
  {
   "cell_type": "code",
   "execution_count": null,
   "id": "82ebfafa-94ea-4c14-b586-339e57f26c6d",
   "metadata": {},
   "outputs": [],
   "source": []
  }
 ],
 "metadata": {
  "kernelspec": {
   "display_name": "Python 3 (ipykernel)",
   "language": "python",
   "name": "python3"
  },
  "language_info": {
   "codemirror_mode": {
    "name": "ipython",
    "version": 3
   },
   "file_extension": ".py",
   "mimetype": "text/x-python",
   "name": "python",
   "nbconvert_exporter": "python",
   "pygments_lexer": "ipython3",
   "version": "3.12.4"
  }
 },
 "nbformat": 4,
 "nbformat_minor": 5
}
